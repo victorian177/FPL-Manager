{
 "cells": [
  {
   "cell_type": "markdown",
   "metadata": {},
   "source": [
    "Imports for data retrieving and player data"
   ]
  },
  {
   "cell_type": "code",
   "execution_count": 1,
   "metadata": {},
   "outputs": [],
   "source": [
    "from data_retriever import match_reports, players_with_team_position, score_and_fixtures, file_create\n",
    "from player_data import PlayerData"
   ]
  },
  {
   "cell_type": "markdown",
   "metadata": {},
   "source": [
    "Data generation"
   ]
  },
  {
   "cell_type": "code",
   "execution_count": 2,
   "metadata": {},
   "outputs": [],
   "source": [
    "# for season in range(17, 22):\n",
    "#     player_info = players_with_team_position(season)\n",
    "#     file_create(\n",
    "#         file_details=player_info, \n",
    "#         file_name=f\"20{season}-20{season + 1} player_info.json\", \n",
    "#         file_path=f\"data/Premier League/player information\"\n",
    "#         )\n",
    "#     score_and_fixtures(season)\n",
    "#     match_reports(season)\n"
   ]
  },
  {
   "cell_type": "code",
   "execution_count": 2,
   "metadata": {},
   "outputs": [],
   "source": [
    "data = PlayerData(18)"
   ]
  },
  {
   "cell_type": "code",
   "execution_count": 4,
   "metadata": {},
   "outputs": [],
   "source": [
    "svtn_eightn = data.data_lister(team='Arsenal', match_range=1)"
   ]
  },
  {
   "cell_type": "code",
   "execution_count": 5,
   "metadata": {},
   "outputs": [
    {
     "data": {
      "text/plain": [
       "0                  Aaron Ramsey\n",
       "1        Ainsley Maitland-Niles\n",
       "2                    Alex Iwobi\n",
       "3           Alexandre Lacazette\n",
       "4                    Bernd Leno\n",
       "5                   Bukayo Saka\n",
       "6                Carl Jenkinson\n",
       "7                 Danny Welbeck\n",
       "8                  Denis Suárez\n",
       "9                 Eddie Nketiah\n",
       "10             Emile Smith Rowe\n",
       "11            Emiliano Martínez\n",
       "12                 Granit Xhaka\n",
       "13           Henrikh Mkhitaryan\n",
       "14              Héctor Bellerín\n",
       "15                  Joe Willock\n",
       "16      Konstantinos Mavropanos\n",
       "17            Laurent Koscielny\n",
       "18               Lucas Torreira\n",
       "19             Mattéo Guendouzi\n",
       "20                   Mesut Özil\n",
       "21               Mohamed Elneny\n",
       "22                Nacho Monreal\n",
       "23                    Petr Čech\n",
       "24    Pierre-Emerick Aubameyang\n",
       "25                  Rob Holding\n",
       "26               Sead Kolašinac\n",
       "27             Shkodran Mustafi\n",
       "28    Sokratis Papastathopoulos\n",
       "29         Stephan Lichtsteiner\n",
       "30                  Zech Medley\n",
       "Name: player, dtype: object"
      ]
     },
     "execution_count": 5,
     "metadata": {},
     "output_type": "execute_result"
    }
   ],
   "source": [
    "svtn_eightn['Arsenal']['player_stats']['player']"
   ]
  }
 ],
 "metadata": {
  "interpreter": {
   "hash": "8609469a9d8985523e0bfd81c505957530596011c225b8d9e94b91b1d77a2b3f"
  },
  "kernelspec": {
   "display_name": "Python 3.9.1 ('.venv': venv)",
   "language": "python",
   "name": "python3"
  },
  "language_info": {
   "codemirror_mode": {
    "name": "ipython",
    "version": 3
   },
   "file_extension": ".py",
   "mimetype": "text/x-python",
   "name": "python",
   "nbconvert_exporter": "python",
   "pygments_lexer": "ipython3",
   "version": "3.9.1"
  },
  "orig_nbformat": 4
 },
 "nbformat": 4,
 "nbformat_minor": 2
}
