{
 "cells": [
  {
   "cell_type": "markdown",
   "metadata": {},
   "source": [
    "Imports for data retrieving and player data"
   ]
  },
  {
   "cell_type": "code",
   "execution_count": 1,
   "metadata": {},
   "outputs": [],
   "source": [
    "from data_retriever import match_reports, players_with_team_position, score_and_fixtures, file_create\n",
    "from player_data import PlayerData"
   ]
  },
  {
   "cell_type": "markdown",
   "metadata": {},
   "source": [
    "Data generation"
   ]
  },
  {
   "cell_type": "code",
   "execution_count": 2,
   "metadata": {},
   "outputs": [],
   "source": [
    "# for season in range(17, 22):\n",
    "#     player_info = players_with_team_position(season)\n",
    "#     file_create(\n",
    "#         file_details=player_info, \n",
    "#         file_name=f\"20{season}-20{season + 1} player_info.json\", \n",
    "#         file_path=f\"data/Premier League/player information\"\n",
    "#         )\n",
    "#     score_and_fixtures(season)\n",
    "#     match_reports(season)\n"
   ]
  },
  {
   "cell_type": "code",
   "execution_count": 3,
   "metadata": {},
   "outputs": [],
   "source": [
    "data = PlayerData(17)"
   ]
  },
  {
   "cell_type": "code",
   "execution_count": 4,
   "metadata": {},
   "outputs": [],
   "source": [
    "svtn_eightn = data.data_lister(team='Arsenal', gameweek_range=[1, 5])"
   ]
  },
  {
   "cell_type": "code",
   "execution_count": 9,
   "metadata": {},
   "outputs": [
    {
     "data": {
      "text/plain": [
       "0    1\n",
       "Name: cleansheets, dtype: int64"
      ]
     },
     "execution_count": 9,
     "metadata": {},
     "output_type": "execute_result"
    }
   ],
   "source": [
    "svtn_eightn[\"teams_stats\"]['cleansheets']"
   ]
  }
 ],
 "metadata": {
  "interpreter": {
   "hash": "8609469a9d8985523e0bfd81c505957530596011c225b8d9e94b91b1d77a2b3f"
  },
  "kernelspec": {
   "display_name": "Python 3.9.1 ('.venv': venv)",
   "language": "python",
   "name": "python3"
  },
  "language_info": {
   "codemirror_mode": {
    "name": "ipython",
    "version": 3
   },
   "file_extension": ".py",
   "mimetype": "text/x-python",
   "name": "python",
   "nbconvert_exporter": "python",
   "pygments_lexer": "ipython3",
   "version": "3.9.1"
  },
  "orig_nbformat": 4
 },
 "nbformat": 4,
 "nbformat_minor": 2
}
