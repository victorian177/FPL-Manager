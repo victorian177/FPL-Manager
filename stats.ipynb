{
 "cells": [
  {
   "cell_type": "markdown",
   "metadata": {},
   "source": [
    "Imports for data retrieving and player data"
   ]
  },
  {
   "cell_type": "code",
   "execution_count": 1,
   "metadata": {},
   "outputs": [],
   "source": [
    "from data_retriever import match_reports, players_with_team_position, score_and_fixtures, file_create\n",
    "from player_data import PlayerData"
   ]
  },
  {
   "cell_type": "markdown",
   "metadata": {},
   "source": [
    "Data generation"
   ]
  },
  {
   "cell_type": "code",
   "execution_count": 2,
   "metadata": {},
   "outputs": [],
   "source": [
    "# for season in range(17, 22):\n",
    "#     player_info = players_with_team_position(season)\n",
    "#     file_create(\n",
    "#         file_details=player_info, \n",
    "#         file_name=f\"20{season}-20{season + 1} player_info.json\", \n",
    "#         file_path=f\"data/Premier League/player information\"\n",
    "#         )\n",
    "#     score_and_fixtures(season)\n",
    "#     match_reports(season)\n"
   ]
  },
  {
   "cell_type": "code",
   "execution_count": 3,
   "metadata": {},
   "outputs": [],
   "source": [
    "data = PlayerData(17)"
   ]
  },
  {
   "cell_type": "code",
   "execution_count": 4,
   "metadata": {},
   "outputs": [],
   "source": [
    "svtn_eightn = data.data_lister(match_range=3)"
   ]
  }
 ],
 "metadata": {
  "interpreter": {
   "hash": "05fe61d7fff45ff90280c2a49284d67e96998a6decb03e7246fee57abd8103e7"
  },
  "kernelspec": {
   "display_name": "Python 3.9.1 ('.venv': venv)",
   "language": "python",
   "name": "python3"
  },
  "language_info": {
   "codemirror_mode": {
    "name": "ipython",
    "version": 3
   },
   "file_extension": ".py",
   "mimetype": "text/x-python",
   "name": "python",
   "nbconvert_exporter": "python",
   "pygments_lexer": "ipython3",
   "version": "3.9.1"
  },
  "orig_nbformat": 4
 },
 "nbformat": 4,
 "nbformat_minor": 2
}
