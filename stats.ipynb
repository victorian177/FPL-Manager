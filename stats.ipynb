{
 "cells": [
  {
   "cell_type": "markdown",
   "metadata": {},
   "source": [
    "Imports for data retrieving and player data"
   ]
  },
  {
   "cell_type": "code",
   "execution_count": 1,
   "metadata": {},
   "outputs": [],
   "source": [
    "from data_retriever import match_reports, players_with_team_position, score_and_fixtures, file_create\n",
    "from player_data import PlayerData"
   ]
  },
  {
   "cell_type": "markdown",
   "metadata": {},
   "source": [
    "Data generation"
   ]
  },
  {
   "cell_type": "code",
   "execution_count": 2,
   "metadata": {},
   "outputs": [],
   "source": [
    "# for season in range(17, 22):\n",
    "#     player_info = players_with_team_position(season)\n",
    "#     file_create(\n",
    "#         file_details=player_info, \n",
    "#         file_name=f\"20{season}-20{season + 1} player_info.json\", \n",
    "#         file_path=f\"data/Premier League/player information\"\n",
    "#         )\n",
    "#     score_and_fixtures(season)\n",
    "#     match_reports(season)\n"
   ]
  },
  {
   "cell_type": "code",
   "execution_count": 3,
   "metadata": {},
   "outputs": [],
   "source": [
    "data = PlayerData(17)"
   ]
  },
  {
   "cell_type": "code",
   "execution_count": 4,
   "metadata": {},
   "outputs": [],
   "source": [
    "svtn_eightn = data.data_lister(team='Arsenal', gameweek_range=[1, 5])"
   ]
  },
  {
   "cell_type": "code",
   "execution_count": 7,
   "metadata": {},
   "outputs": [
    {
     "data": {
      "text/plain": [
       "0                       {'DM': 4, 'CM': 1}\n",
       "1                                       {}\n",
       "2                                {'LM': 1}\n",
       "3                       {'WB': 3, 'RB': 2}\n",
       "4              {'FW': 3, 'LW': 2, 'RM': 1}\n",
       "5                                {'LW': 2}\n",
       "6                                       {}\n",
       "7     {'AM': 1, 'RW': 2, 'LW': 2, 'FW': 2}\n",
       "8                                       {}\n",
       "9                                       {}\n",
       "10                      {'CM': 1, 'DM': 2}\n",
       "11                      {'DM': 4, 'CM': 2}\n",
       "12                                      {}\n",
       "13             {'WB': 4, 'LB': 2, 'RB': 1}\n",
       "14                                      {}\n",
       "15                                      {}\n",
       "16                                      {}\n",
       "17                                      {}\n",
       "18                               {'CB': 2}\n",
       "19                                      {}\n",
       "20                                      {}\n",
       "21    {'AM': 2, 'RW': 3, 'CM': 1, 'LM': 1}\n",
       "22                               {'DM': 1}\n",
       "23                      {'CB': 4, 'LB': 1}\n",
       "24                               {'FW': 4}\n",
       "25                                      {}\n",
       "26                               {'GK': 4}\n",
       "27                                      {}\n",
       "28                                      {}\n",
       "29                               {'CB': 2}\n",
       "30                      {'CB': 2, 'WB': 1}\n",
       "31                               {'CB': 2}\n",
       "32                      {'RW': 1, 'RM': 1}\n",
       "Name: position, dtype: object"
      ]
     },
     "execution_count": 7,
     "metadata": {},
     "output_type": "execute_result"
    }
   ],
   "source": [
    "svtn_eightn[\"Arsenal\"]['player_stats']['position']"
   ]
  }
 ],
 "metadata": {
  "interpreter": {
   "hash": "8609469a9d8985523e0bfd81c505957530596011c225b8d9e94b91b1d77a2b3f"
  },
  "kernelspec": {
   "display_name": "Python 3.9.1 ('.venv': venv)",
   "language": "python",
   "name": "python3"
  },
  "language_info": {
   "codemirror_mode": {
    "name": "ipython",
    "version": 3
   },
   "file_extension": ".py",
   "mimetype": "text/x-python",
   "name": "python",
   "nbconvert_exporter": "python",
   "pygments_lexer": "ipython3",
   "version": "3.9.1"
  },
  "orig_nbformat": 4
 },
 "nbformat": 4,
 "nbformat_minor": 2
}
