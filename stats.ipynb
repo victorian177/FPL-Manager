{
 "cells": [
  {
   "cell_type": "markdown",
   "metadata": {},
   "source": [
    "Imports for data retrieving and player data"
   ]
  },
  {
   "cell_type": "code",
   "execution_count": 1,
   "metadata": {},
   "outputs": [],
   "source": [
    "from data_retriever import match_reports, players_with_team_position, score_and_fixtures, file_create\n",
    "from player_data import PlayerData"
   ]
  },
  {
   "cell_type": "code",
   "execution_count": 41,
   "metadata": {},
   "outputs": [],
   "source": [
    "p = PlayerData(17)\n",
    "f = p.data_lister()"
   ]
  },
  {
   "cell_type": "code",
   "execution_count": 42,
   "metadata": {},
   "outputs": [
    {
     "data": {
      "text/plain": [
       "dict_keys(['Arsenal', 'Bournemouth', 'Brighton', 'Burnley', 'Chelsea', 'Crystal Palace', 'Everton', 'Huddersfield', 'Leicester City', 'Liverpool', 'Manchester City', 'Manchester Utd', 'Newcastle Utd', 'Southampton', 'Stoke City', 'Swansea City', 'Tottenham', 'Watford', 'West Brom', 'West Ham', 'teams_stats', 'played_fixtures'])"
      ]
     },
     "execution_count": 42,
     "metadata": {},
     "output_type": "execute_result"
    }
   ],
   "source": [
    "f.keys()"
   ]
  },
  {
   "cell_type": "markdown",
   "metadata": {},
   "source": [
    "Data generation"
   ]
  },
  {
   "cell_type": "code",
   "execution_count": null,
   "metadata": {},
   "outputs": [],
   "source": [
    "# for season in range(17, 22):\n",
    "#     player_info = players_with_team_position(season)\n",
    "#     file_create(\n",
    "#         file_details=player_info, \n",
    "#         file_name=f\"20{season}-20{season + 1} player_info.json\", \n",
    "#         file_path=f\"data/Premier League/player information\"\n",
    "#         )\n",
    "\n",
    "#     score_and_fixtures(season)\n",
    "#     match_reports(season)\n"
   ]
  },
  {
   "cell_type": "code",
   "execution_count": null,
   "metadata": {},
   "outputs": [],
   "source": [
    "all_data = {}\n",
    "\n",
    "all_data[\"17/18\"] = PlayerData(17)\n",
    "all_data[\"18/19\"] = PlayerData(18)\n",
    "all_data[\"19/20\"] = PlayerData(19)\n",
    "\n",
    "categories = all_data[\"17/18\"].headers['header']\n",
    "others = ['transfers_balance', 'creativity', 'transfers_in', 'sub_ins', 'ict_index', 'sub_outs', 'played_60', 'bonus', \n",
    "'appearances', 'total_points', 'transfers_out', 'bps', 'starts', 'threat', 'influence', 'value', 'value_change']\n",
    "\n",
    "seasons = ['17/18', '18/19', '19/20']\n",
    "\n",
    "teams = {key: sorted(value.players.keys()) for key, value in all_data.items()}\n",
    "for season in teams.keys():\n",
    "  teams[season].append('all_teams')\n"
   ]
  },
  {
   "cell_type": "code",
   "execution_count": null,
   "metadata": {},
   "outputs": [],
   "source": [
    "import matplotlib.pyplot as plt\n",
    "import seaborn as sns\n",
    "import numpy as np\n",
    "import pandas as pd\n",
    "from scipy import stats\n",
    "from pprint import pprint\n",
    "import warnings\n",
    "\n",
    "warnings.filterwarnings(\"ignore\", category=np.VisibleDeprecationWarning)\n",
    "plt.rcParams['figure.figsize'] = [15, 20]"
   ]
  },
  {
   "cell_type": "code",
   "execution_count": null,
   "metadata": {},
   "outputs": [],
   "source": [
    "def column_creator(df: pd.DataFrame, expression: str):\n",
    "  column_name, formula = expression.split(\" = \")\n",
    "  formula = formula.split(' ')\n",
    "  df[column_name] = df[formula[0]]\n",
    "  is_operation = True\n",
    "  operation = ''\n",
    "\n",
    "  for string in formula[1:]:\n",
    "    if is_operation:\n",
    "      operation = string\n",
    "\n",
    "    else:\n",
    "      if operation == '+':\n",
    "        df[column_name] += df[string]\n",
    "\n",
    "      elif operation == '-':\n",
    "        df[column_name] -= df[string]\n",
    "\n",
    "      elif operation == '/':\n",
    "        df[column_name] /= df[string]\n",
    "\n",
    "      elif operation == '*':\n",
    "        df[column_name] *= df[string]\n",
    "\n",
    "    is_operation = not is_operation\n",
    "    \n",
    "  df[column_name].replace([np.nan, np.inf], 0, inplace=True)\n",
    "\n"
   ]
  },
  {
   "cell_type": "code",
   "execution_count": null,
   "metadata": {},
   "outputs": [],
   "source": [
    "extras = ['minutes_per_goal = minutes / goals',\n",
    "          'minutes_per_assist = minutes / assists',\n",
    "          'goals_xg_diff = goals - xg',\n",
    "          'assists_xa_diff = assists - xa',\n",
    "          'minutes_per_sca = minutes / sca',\n",
    "          'minutes_per_gca = minutes / gca',\n",
    "          'goals_to_shot_ratio = goals / shots_total',\n",
    "          'target_to_shot_ratio = shots_on_target / shots_total',\n",
    "          'dribbles_per_app = dribbles / appearances',\n",
    "          'blocks_per_app = blocks / appearances',\n",
    "          'clearances_per_app = clearances / appearances',\n",
    "          'errors_per_app = errors / appearances',\n",
    "          'points_per_app = total_points / appearances',\n",
    "          'tackles_pct = tackles_won / tackles',\n",
    "          'interceptions_per_app = interceptions / appearances',\n",
    "          'touches_per_app = touches / appearances',\n",
    "          'minutes_per_cross = minutes / crosses',\n",
    "          'minutes_per_fouled = minutes / fouled',\n",
    "          'minutes_per_foul = minutes / fouls',\n",
    "          'minutes_per_offside = minutes / offsides',\n",
    "          'ball_recoveries_per_app = ball_recoveries / appearances',\n",
    "          'through_pass_ratio = through_balls / passes',\n",
    "          'dist_per_carry = carry_distance / carries',\n",
    "          'prog_dist_per_carry = carry_progressive_distance / progressive_carries',\n",
    "          'prog_to_total_ratio = passes_progressive_distance / passes_total_distance',\n",
    "          'sub_outs_per_start = sub_outs / starts',\n",
    "          'sub_ins_per_app = sub_ins / appearances',\n",
    "          'minutes_per_yellow = cards_yellow / minutes',\n",
    "          'fouls_per_yellow = fouls / cards_yellow',\n",
    "          'miscontrols_per_app = miscontrols / appearances',\n",
    "          'dispossessed_per_app = dispossessed / appearances',\n",
    "          'played_60_per_app = played_60 / appearances',\n",
    "          'oob_per_pass = passes_oob / passes',\n",
    "          'intercepted_per_pass = passes_intercepted / passes',\n",
    "          'blocked_per_pass = passes_blocked / passes',\n",
    "          'prog_per_pass_recieved = progressive_passes_received / passes_received',\n",
    "          'bonus_per_app = bonus / appearances',\n",
    "          'transfers_ratio = transfers_in / transfers_out',\n",
    "\n",
    "          'carries_into_final_third_pct = carries_into_final_third / carries',\n",
    "          'carries_into_pen_area_pct = carries_into_penalty_area / carries',\n",
    "\n",
    "          'passes_pct_short = passes_completed_short / passes_short',\n",
    "          'passes_pct_long = passes_completed_long / passes_long',\n",
    "          'passes_pct_medium = passes_completed_medium / passes_medium',\n",
    "\n",
    "          'touches_att_pen_area_pct = touches_att_pen_area / touches',\n",
    "          'touches_att_3rd_pct = touches_att_3rd / touches',\n",
    "          'touches_mid_3rd_pct = touches_mid_3rd / touches',\n",
    "          'touches_def_3rd_pct = touches_def_3rd / touches',\n",
    "          'touches_def_pen_area_pct = touches_def_pen_area / touches'\n",
    "]"
   ]
  },
  {
   "cell_type": "code",
   "execution_count": null,
   "metadata": {},
   "outputs": [],
   "source": [
    "batch = 'entire_season'\n",
    "\n",
    "data = {key: value.data_lister() for key, value in all_data.items()}"
   ]
  },
  {
   "cell_type": "code",
   "execution_count": null,
   "metadata": {},
   "outputs": [],
   "source": [
    "threshold = 380"
   ]
  },
  {
   "cell_type": "code",
   "execution_count": null,
   "metadata": {},
   "outputs": [],
   "source": [
    "observations = {}\n",
    "\n",
    "for season in teams.keys():\n",
    "  observations[season] = {}\n",
    "  for team in teams[season][:-1]:\n",
    "    df = data[season][team]['player_stats']\n",
    "    obsrvtns = len(df[df['minutes'] > threshold])\n",
    "    observations[season][team] = obsrvtns\n",
    "\n",
    "for season in teams.keys():\n",
    "  datapoints = list(observations[season].values())\n",
    "  print(f\"{season}: {sum(datapoints) / len(datapoints)}\")\n"
   ]
  },
  {
   "cell_type": "code",
   "execution_count": null,
   "metadata": {},
   "outputs": [],
   "source": [
    "for season in seasons:\n",
    "  for team in teams[season][:-1]:\n",
    "    positions = data[season][team]['player_stats']['position']\n",
    "    places = []\n",
    "    for p in positions:\n",
    "      keys = list(p.keys())\n",
    "      values = list(p.values())\n",
    "      if len(values) > 0:\n",
    "        mx = max(values)\n",
    "        ind = values.index(mx)\n",
    "\n",
    "        top_pstn = keys[ind]\n",
    "        if top_pstn[-1] == 'K':\n",
    "          places.append('Gkp')\n",
    "        elif top_pstn[-1] == 'B':\n",
    "          places.append('Def')\n",
    "        elif top_pstn[-1] == 'M':\n",
    "            places.append('Mid')\n",
    "        else:\n",
    "            places.append('Fwd')\n",
    "      else:\n",
    "        places.append(\"Nil\")\n",
    "\n",
    "    data[season][team]['player_stats']['places'] = places\n",
    "    ages = data[season][team]['player_stats']['age']\n",
    "    ages = [int(age.split('-')[0]) if age != 0 else 0 for age in ages]\n",
    "    data[season][team]['player_stats']['age'] = ages\n"
   ]
  },
  {
   "cell_type": "code",
   "execution_count": null,
   "metadata": {},
   "outputs": [],
   "source": [
    "columns = {\n",
    "  \"player_info\":\n",
    "  ['player',\n",
    "  'position',\n",
    "  'age'],\n",
    "\n",
    "  \"appearances\":\n",
    "  ['minutes',\n",
    "  'appearances',\n",
    "  'starts',\n",
    "  'played_60',\n",
    "  'own_goals'],\n",
    "\n",
    "  \"passing\":\n",
    "  ['passes_pct',\n",
    "  'passes_pct_short',\n",
    "  'passes_pct_medium',\n",
    "  'passes_pct_long',\n",
    "  'passes_received_pct'],\n",
    "\n",
    "  \"fpl\":\n",
    "  ['influence',\n",
    "  'creativity',\n",
    "  'threat',\n",
    "  'ict_index',\n",
    "  'total_points',\n",
    "  'value',\n",
    "  'value_change'],\n",
    "\n",
    "  \"expected\":\n",
    "  ['xg',\n",
    "  'npxg',\n",
    "  'xa'],\n",
    "   \n",
    "   \"attack_ratios\":\n",
    "  ['minutes_per_goal',\n",
    "  'minutes_per_assist',\n",
    "  'goals_xg_diff',\n",
    "  'assists_xa_diff',\n",
    "  'minutes_per_sca',\n",
    "  'minutes_per_gca',\n",
    "  'goals_to_shot_ratio',\n",
    "  'target_to_shot_ratio'],\n",
    "\n",
    "  \"fpl_ratios\":\n",
    "  ['points_per_app',\n",
    "  'transfers_ratio',\n",
    "  'bonus_per_app'],\n",
    "\n",
    "  \"defense\":\n",
    "  ['tackles_pct',\n",
    "  'interceptions_per_app',\n",
    "  'blocks_per_app',\n",
    "  'clearances_per_app',\n",
    "  'ball_recoveries_per_app',\n",
    "  'dribble_tackles_pct',\n",
    "  'pressure_regain_pct'],\n",
    "\n",
    "  \"error_ratios\":\n",
    "  ['errors_per_app',\n",
    "  'dispossessed_per_app',\n",
    "  'miscontrols_per_app',\n",
    "  'oob_per_pass',\n",
    "  'intercepted_per_pass',\n",
    "  'blocked_per_pass',\n",
    "  'minutes_per_yellow',\n",
    "  'fouls_per_yellow'],\n",
    "  \n",
    "  \"foul_ratios\":\n",
    "  ['minutes_per_fouled',\n",
    "  'minutes_per_foul'],\n",
    "\n",
    "  \"possession_ratios\":\n",
    "  ['minutes_per_offside',\n",
    "  'through_pass_ratio',\n",
    "  'dist_per_carry',\n",
    "  'prog_dist_per_carry',\n",
    "  'prog_per_pass_recieved',\n",
    "  'dribbles_per_app',\n",
    "  'touches_per_app',\n",
    "  'minutes_per_cross',\n",
    "  'dribbles_completed_pct',\n",
    "  'aerials_won_pct',\n",
    "  'carries_into_pen_area_pct',\n",
    "  'carries_into_final_third'\n",
    "  ],\n",
    "\n",
    "  \"start_ratios\":\n",
    "  ['sub_outs_per_start',\n",
    "  'sub_ins_per_app',\n",
    "  'played_60_per_app'],\n",
    "\n",
    "  \"touches\":\n",
    "  ['touches_att_pen_area_pct',\n",
    "  'touches_att_3rd_pct',\n",
    "  'touches_mid_3rd_pct',\n",
    "  'touches_def_3rd_pct',\n",
    "  'touches_def_pen_area_pct']\n",
    "}"
   ]
  },
  {
   "cell_type": "code",
   "execution_count": null,
   "metadata": {},
   "outputs": [],
   "source": [
    "extra_column_names = [exprssn.split(' = ')[0] for exprssn in extras]\n",
    "\n",
    "for exprssn in extras:\n",
    "  for season in seasons:\n",
    "    for team in teams[season][:-1]:\n",
    "      column_creator(df=data[season][team]['player_stats'], expression=exprssn)"
   ]
  },
  {
   "cell_type": "code",
   "execution_count": null,
   "metadata": {},
   "outputs": [],
   "source": [
    "for season in seasons:\n",
    "  dfs = []\n",
    "  for team in teams[season][:-1]:\n",
    "    dfs.append(data[season][team]['player_stats'])\n",
    "\n",
    "  data[season][\"all_teams\"] = {\"player_stats\": None}\n",
    "  data[season][\"all_teams\"]['player_stats'] = pd.concat(dfs)\n",
    "  data[season][\"all_teams\"]['player_stats'].reset_index(inplace=True)"
   ]
  },
  {
   "cell_type": "code",
   "execution_count": null,
   "metadata": {},
   "outputs": [],
   "source": [
    "cols = []\n",
    "\n",
    "for key, value in columns.items():\n",
    "  if key != \"player_info\":\n",
    "    cols += value"
   ]
  },
  {
   "cell_type": "code",
   "execution_count": null,
   "metadata": {},
   "outputs": [],
   "source": [
    "data['17/18']['teams_stats'].columns"
   ]
  },
  {
   "cell_type": "code",
   "execution_count": null,
   "metadata": {},
   "outputs": [],
   "source": [
    "extra_team_columns = [\n",
    "    'pts_per_game = pts / matches_played',\n",
    "    'home_pts_ratio = home_pts / pts',\n",
    "    'away_pts_ratio = away_pts / pts',\n",
    "    'wins_ratio = wins / matches_played',\n",
    "    'draws_ratio = draws / matches_played',\n",
    "    'h_cleansheets_ratio = home_cleansheets / cleansheets',\n",
    "    'a_cleansheets_ratio = away_cleansheets / cleansheets',\n",
    "    'pct_possession = pct_possession / matches_played',\n",
    "    'goal_ratio = goals_for / goals_against',\n",
    "    'home_goal_ratio = home_goals_for / home_goals_against',\n",
    "    'away_goal_ratio = away_goals_for / away_goals_against',\n",
    "    'home_win_ratio = home_wins / wins',\n",
    "    'away_win_ratio = away_wins / wins',\n",
    "    'home_draw_ratio = home_draws / draws',\n",
    "    'away_draw_ratio = away_draws / draws',\n",
    "    'home_loss_ratio = home_losses / losses',\n",
    "    'away_loss_ratio = away_losses / losses'\n",
    "]"
   ]
  },
  {
   "cell_type": "code",
   "execution_count": null,
   "metadata": {},
   "outputs": [],
   "source": [
    "extra_team_column_names = [exprssn.split(' = ')[0] for exprssn in extra_team_columns]\n",
    "for exprssn in extra_team_columns:\n",
    "  for season in seasons:\n",
    "    column_creator(df=data[season]['teams_stats'], expression=exprssn)"
   ]
  },
  {
   "cell_type": "code",
   "execution_count": null,
   "metadata": {},
   "outputs": [],
   "source": [
    "data['17/18']['teams_stats']"
   ]
  },
  {
   "cell_type": "code",
   "execution_count": null,
   "metadata": {},
   "outputs": [],
   "source": [
    "for season in seasons:\n",
    "  df = data[season]['all_teams']['player_stats']\n",
    "  \n",
    "  correlation = df[cols].corr()\n",
    "  correlation.to_csv(f\"eda/{batch}/{batch}_{season.split('/')[0]}_correlation.csv\")\n",
    "\n",
    "  covariance = df[cols].cov()\n",
    "  covariance.to_csv(f\"eda/{batch}/{batch}_{season.split('/')[0]}_covariance.csv\")\n",
    "  \n",
    "  description = df[cols].describe()\n",
    "  description.to_csv(f\"eda/{batch}/{batch}_{season.split('/')[0]}_description.csv\")\n",
    "\n"
   ]
  },
  {
   "cell_type": "code",
   "execution_count": null,
   "metadata": {},
   "outputs": [],
   "source": [
    "desc = {}\n",
    "for season in seasons:\n",
    "    df = pd.read_csv(f\"eda\\entire_season\\entire_season_{season.split('/')[0]}_description.csv\", index_col=0)\n",
    "    desc[season] = df\n",
    "\n",
    "corr = {}\n",
    "for season in seasons:    \n",
    "    df = pd.read_csv(f\"eda\\entire_season\\entire_season_{season.split('/')[0]}_correlation.csv\", index_col=0)\n",
    "    corr[season] = df\n",
    "\n",
    "covr = {}\n",
    "for season in seasons:    \n",
    "    df = pd.read_csv(f\"eda\\entire_season\\entire_season_{season.split('/')[0]}_covariance.csv\", index_col=0)\n",
    "    covr[season] = df"
   ]
  },
  {
   "cell_type": "code",
   "execution_count": null,
   "metadata": {},
   "outputs": [],
   "source": [
    "desc_17_compare = (desc['17/18'] - desc['18/19']) / desc['17/18']\n",
    "desc_17_compare.fillna(0, inplace=True)\n",
    "sns.set(rc={'figure.figsize':(20, 20)})\n",
    "sns.heatmap(desc_17_compare, cmap=\"YlGnBu\")"
   ]
  },
  {
   "cell_type": "code",
   "execution_count": null,
   "metadata": {},
   "outputs": [],
   "source": [
    "corr_17_compare = (corr['17/18'] - corr['18/19']) / corr['17/18']\n",
    "sns.heatmap(corr_17_compare)"
   ]
  },
  {
   "cell_type": "code",
   "execution_count": null,
   "metadata": {},
   "outputs": [],
   "source": [
    "covr_17_compare = (covr['17/18'] - covr['18/19']) / covr['17/18']\n",
    "sns.heatmap(covr_17_compare)"
   ]
  },
  {
   "cell_type": "code",
   "execution_count": null,
   "metadata": {},
   "outputs": [],
   "source": [
    "data = PlayerData(17)\n",
    "a = data.data_lister(gameweek_range=1)"
   ]
  },
  {
   "cell_type": "code",
   "execution_count": null,
   "metadata": {},
   "outputs": [],
   "source": [
    "a['Arsenal']['player_stats']"
   ]
  }
 ],
 "metadata": {
  "interpreter": {
   "hash": "8609469a9d8985523e0bfd81c505957530596011c225b8d9e94b91b1d77a2b3f"
  },
  "kernelspec": {
   "display_name": "Python 3.9.1 ('.venv': venv)",
   "language": "python",
   "name": "python3"
  },
  "language_info": {
   "codemirror_mode": {
    "name": "ipython",
    "version": 3
   },
   "file_extension": ".py",
   "mimetype": "text/x-python",
   "name": "python",
   "nbconvert_exporter": "python",
   "pygments_lexer": "ipython3",
   "version": "3.9.1"
  },
  "orig_nbformat": 4
 },
 "nbformat": 4,
 "nbformat_minor": 2
}
