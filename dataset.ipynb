{
 "cells": [
  {
   "cell_type": "code",
   "execution_count": 1,
   "metadata": {},
   "outputs": [],
   "source": [
    "from dataset_generator import dataset_generator\n"
   ]
  },
  {
   "cell_type": "code",
   "execution_count": null,
   "metadata": {},
   "outputs": [],
   "source": [
    "rnges = [1, 4, 7, 10, 13, 15, 23, 26, 30]\n",
    "\n",
    "gw_rnge_list = [[i, i+5] for i in rnges]\n",
    "for r in gw_rnge_list:\n",
    "    dataset_generator(r, 45, 3)\n"
   ]
  },
  {
   "cell_type": "code",
   "execution_count": null,
   "metadata": {},
   "outputs": [],
   "source": [
    "rnges = [2, 5, 8, 11, 14, 16, 20, 22, 27]\n",
    "\n",
    "gw_rnge_list = [[i, i+8] for i in rnges]\n",
    "for r in gw_rnge_list:\n",
    "    dataset_generator(r, 70, 3)"
   ]
  },
  {
   "cell_type": "code",
   "execution_count": null,
   "metadata": {},
   "outputs": [],
   "source": [
    "rnges = [3, 5, 6, 9, 12, 17, 18, 23, 25]\n",
    "\n",
    "gw_rnge_list = [[i, i+10] for i in rnges]\n",
    "for r in gw_rnge_list:\n",
    "    dataset_generator(r, 90, 3)"
   ]
  }
 ],
 "metadata": {
  "interpreter": {
   "hash": "8609469a9d8985523e0bfd81c505957530596011c225b8d9e94b91b1d77a2b3f"
  },
  "kernelspec": {
   "display_name": "Python 3.9.1 ('.venv': venv)",
   "language": "python",
   "name": "python3"
  },
  "language_info": {
   "codemirror_mode": {
    "name": "ipython",
    "version": 3
   },
   "file_extension": ".py",
   "mimetype": "text/x-python",
   "name": "python",
   "nbconvert_exporter": "python",
   "pygments_lexer": "ipython3",
   "version": "3.9.1"
  },
  "orig_nbformat": 4
 },
 "nbformat": 4,
 "nbformat_minor": 2
}
