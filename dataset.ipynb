{
 "cells": [
  {
   "cell_type": "code",
   "execution_count": 1,
   "metadata": {},
   "outputs": [],
   "source": [
    "from dataset_generator import dataset_generator\n"
   ]
  },
  {
   "cell_type": "code",
   "execution_count": null,
   "metadata": {},
   "outputs": [],
   "source": [
    "gw_rnge_list = [[i, i+10] for i in [1, 2, 3, 5, 7, 10, 12, 15, 18, 20, 23]]\n"
   ]
  },
  {
   "cell_type": "code",
   "execution_count": 2,
   "metadata": {},
   "outputs": [
    {
     "ename": "TypeError",
     "evalue": "'int' object is not subscriptable",
     "output_type": "error",
     "traceback": [
      "\u001b[1;31m---------------------------------------------------------------------------\u001b[0m",
      "\u001b[1;31mTypeError\u001b[0m                                 Traceback (most recent call last)",
      "\u001b[1;32mc:\\Users\\Victor Momodu\\Documents\\Programming\\Python\\Code\\FPL Manager\\dataset.ipynb Cell 4'\u001b[0m in \u001b[0;36m<cell line: 1>\u001b[1;34m()\u001b[0m\n\u001b[1;32m----> <a href='vscode-notebook-cell:/c%3A/Users/Victor%20Momodu/Documents/Programming/Python/Code/FPL%20Manager/dataset.ipynb#ch0000002?line=0'>1</a>\u001b[0m dataset_generator([\u001b[39m1\u001b[39;49m, \u001b[39m2\u001b[39;49m], \u001b[39m10\u001b[39;49m, \u001b[39m1\u001b[39;49m)\n",
      "File \u001b[1;32mc:\\Users\\Victor Momodu\\Documents\\Programming\\Python\\Code\\FPL Manager\\dataset_generator.py:325\u001b[0m, in \u001b[0;36mdataset_generator\u001b[1;34m(gameweek_range, threshold, target)\u001b[0m\n\u001b[0;32m    323\u001b[0m conceded_2 \u001b[39m=\u001b[39m \u001b[39m0\u001b[39m\n\u001b[0;32m    324\u001b[0m \u001b[39mfor\u001b[39;00m row \u001b[39min\u001b[39;00m \u001b[39mrange\u001b[39m(\u001b[39mlen\u001b[39m(played_fixtures)):\n\u001b[1;32m--> 325\u001b[0m     score \u001b[39m=\u001b[39m row[\u001b[39m'\u001b[39;49m\u001b[39mscore\u001b[39;49m\u001b[39m'\u001b[39;49m]\u001b[39m.\u001b[39msplit(\u001b[39m'\u001b[39m\u001b[39m–\u001b[39m\u001b[39m'\u001b[39m)\n\u001b[0;32m    326\u001b[0m     \u001b[39mif\u001b[39;00m row[\u001b[39m'\u001b[39m\u001b[39msquad_a\u001b[39m\u001b[39m'\u001b[39m] \u001b[39m==\u001b[39m team:\n\u001b[0;32m    327\u001b[0m         conceded_2 \u001b[39m=\u001b[39m conceded_2 \u001b[39m+\u001b[39m \\\n\u001b[0;32m    328\u001b[0m             \u001b[39m1\u001b[39m \u001b[39mif\u001b[39;00m \u001b[39mint\u001b[39m(score[\u001b[39m1\u001b[39m]) \u001b[39m>\u001b[39m\u001b[39m=\u001b[39m \u001b[39m2\u001b[39m \u001b[39melse\u001b[39;00m conceded_2\n",
      "\u001b[1;31mTypeError\u001b[0m: 'int' object is not subscriptable"
     ]
    }
   ],
   "source": [
    "dataset_generator([1, 2], 10, 1)\n"
   ]
  }
 ],
 "metadata": {
  "interpreter": {
   "hash": "8609469a9d8985523e0bfd81c505957530596011c225b8d9e94b91b1d77a2b3f"
  },
  "kernelspec": {
   "display_name": "Python 3.9.1 ('.venv': venv)",
   "language": "python",
   "name": "python3"
  },
  "language_info": {
   "codemirror_mode": {
    "name": "ipython",
    "version": 3
   },
   "file_extension": ".py",
   "mimetype": "text/x-python",
   "name": "python",
   "nbconvert_exporter": "python",
   "pygments_lexer": "ipython3",
   "version": "3.9.1"
  },
  "orig_nbformat": 4
 },
 "nbformat": 4,
 "nbformat_minor": 2
}
